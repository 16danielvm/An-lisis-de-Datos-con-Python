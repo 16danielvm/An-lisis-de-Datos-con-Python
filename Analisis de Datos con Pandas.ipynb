{
 "metadata": {
  "language_info": {
   "codemirror_mode": {
    "name": "ipython",
    "version": 3
   },
   "file_extension": ".py",
   "mimetype": "text/x-python",
   "name": "python",
   "nbconvert_exporter": "python",
   "pygments_lexer": "ipython3",
   "version": "3.7.6-final"
  },
  "orig_nbformat": 2,
  "kernelspec": {
   "name": "python_defaultSpec_1599682976621",
   "display_name": "Python 3.7.6 64-bit"
  }
 },
 "nbformat": 4,
 "nbformat_minor": 2,
 "cells": [
  {
   "cell_type": "markdown",
   "metadata": {},
   "source": [
    "Analisis de datos con Pandas"
   ]
  },
  {
   "cell_type": "code",
   "execution_count": 1,
   "metadata": {},
   "outputs": [],
   "source": [
    "\n",
    "import pandas as pd"
   ]
  },
  {
   "cell_type": "code",
   "execution_count": 2,
   "metadata": {
    "tags": []
   },
   "outputs": [
    {
     "output_type": "execute_result",
     "data": {
      "text/plain": "'d:\\\\Universidad\\\\Cursos\\\\Analisis de datos con Pandas'"
     },
     "metadata": {},
     "execution_count": 2
    }
   ],
   "source": [
    "pwd"
   ]
  },
  {
   "cell_type": "code",
   "execution_count": 3,
   "metadata": {
    "tags": []
   },
   "outputs": [
    {
     "output_type": "stream",
     "name": "stdout",
     "text": "D:\\Universidad\\Cursos\\Analisis de datos con Pandas\n"
    }
   ],
   "source": [
    "cd \"D:/Universidad/Cursos/Analisis de datos con Pandas\""
   ]
  },
  {
   "cell_type": "markdown",
   "metadata": {},
   "source": [
    "Conceptos Basicos"
   ]
  },
  {
   "cell_type": "code",
   "execution_count": 4,
   "metadata": {},
   "outputs": [
    {
     "output_type": "execute_result",
     "data": {
      "text/plain": "  Nombre  Edad       País Automovil\n0   Juan    35     México        No\n1  Pedro    41     España        Si\n2  María    28       Perú        Si\n3  Laura    66  Argentina        No",
      "text/html": "<div>\n<style scoped>\n    .dataframe tbody tr th:only-of-type {\n        vertical-align: middle;\n    }\n\n    .dataframe tbody tr th {\n        vertical-align: top;\n    }\n\n    .dataframe thead th {\n        text-align: right;\n    }\n</style>\n<table border=\"1\" class=\"dataframe\">\n  <thead>\n    <tr style=\"text-align: right;\">\n      <th></th>\n      <th>Nombre</th>\n      <th>Edad</th>\n      <th>País</th>\n      <th>Automovil</th>\n    </tr>\n  </thead>\n  <tbody>\n    <tr>\n      <th>0</th>\n      <td>Juan</td>\n      <td>35</td>\n      <td>México</td>\n      <td>No</td>\n    </tr>\n    <tr>\n      <th>1</th>\n      <td>Pedro</td>\n      <td>41</td>\n      <td>España</td>\n      <td>Si</td>\n    </tr>\n    <tr>\n      <th>2</th>\n      <td>María</td>\n      <td>28</td>\n      <td>Perú</td>\n      <td>Si</td>\n    </tr>\n    <tr>\n      <th>3</th>\n      <td>Laura</td>\n      <td>66</td>\n      <td>Argentina</td>\n      <td>No</td>\n    </tr>\n  </tbody>\n</table>\n</div>"
     },
     "metadata": {},
     "execution_count": 4
    }
   ],
   "source": [
    "#Cargar tabla de ejemplo\n",
    "tabla = pd.read_csv(\"TablaEjemplo.csv\")\n",
    "tabla.head()"
   ]
  },
  {
   "cell_type": "code",
   "execution_count": 5,
   "metadata": {},
   "outputs": [
    {
     "output_type": "execute_result",
     "data": {
      "text/plain": "0     Juan\n1    Pedro\n2    María\n3    Laura\nName: Nombre, dtype: object"
     },
     "metadata": {},
     "execution_count": 5
    }
   ],
   "source": [
    "#Muestra la columna Nombre\n",
    "tabla['Nombre']"
   ]
  },
  {
   "cell_type": "code",
   "execution_count": 6,
   "metadata": {},
   "outputs": [
    {
     "output_type": "execute_result",
     "data": {
      "text/plain": "  Nombre  Edad\n0   Juan    35\n1  Pedro    41\n2  María    28\n3  Laura    66",
      "text/html": "<div>\n<style scoped>\n    .dataframe tbody tr th:only-of-type {\n        vertical-align: middle;\n    }\n\n    .dataframe tbody tr th {\n        vertical-align: top;\n    }\n\n    .dataframe thead th {\n        text-align: right;\n    }\n</style>\n<table border=\"1\" class=\"dataframe\">\n  <thead>\n    <tr style=\"text-align: right;\">\n      <th></th>\n      <th>Nombre</th>\n      <th>Edad</th>\n    </tr>\n  </thead>\n  <tbody>\n    <tr>\n      <th>0</th>\n      <td>Juan</td>\n      <td>35</td>\n    </tr>\n    <tr>\n      <th>1</th>\n      <td>Pedro</td>\n      <td>41</td>\n    </tr>\n    <tr>\n      <th>2</th>\n      <td>María</td>\n      <td>28</td>\n    </tr>\n    <tr>\n      <th>3</th>\n      <td>Laura</td>\n      <td>66</td>\n    </tr>\n  </tbody>\n</table>\n</div>"
     },
     "metadata": {},
     "execution_count": 6
    }
   ],
   "source": [
    "#Muestra la columna Nombre y Edad\n",
    "tabla[['Nombre', 'Edad']]"
   ]
  },
  {
   "cell_type": "markdown",
   "metadata": {},
   "source": [
    "Ingresar y visualizar Datos"
   ]
  },
  {
   "cell_type": "code",
   "execution_count": 7,
   "metadata": {},
   "outputs": [
    {
     "output_type": "execute_result",
     "data": {
      "text/plain": "  Nombre  Edad       País Automovil\n0   Juan    35     México        No\n1  Pedro    41     España        Si\n2  María    28       Perú        Si\n3  Laura    66  Argentina        No",
      "text/html": "<div>\n<style scoped>\n    .dataframe tbody tr th:only-of-type {\n        vertical-align: middle;\n    }\n\n    .dataframe tbody tr th {\n        vertical-align: top;\n    }\n\n    .dataframe thead th {\n        text-align: right;\n    }\n</style>\n<table border=\"1\" class=\"dataframe\">\n  <thead>\n    <tr style=\"text-align: right;\">\n      <th></th>\n      <th>Nombre</th>\n      <th>Edad</th>\n      <th>País</th>\n      <th>Automovil</th>\n    </tr>\n  </thead>\n  <tbody>\n    <tr>\n      <th>0</th>\n      <td>Juan</td>\n      <td>35</td>\n      <td>México</td>\n      <td>No</td>\n    </tr>\n    <tr>\n      <th>1</th>\n      <td>Pedro</td>\n      <td>41</td>\n      <td>España</td>\n      <td>Si</td>\n    </tr>\n    <tr>\n      <th>2</th>\n      <td>María</td>\n      <td>28</td>\n      <td>Perú</td>\n      <td>Si</td>\n    </tr>\n    <tr>\n      <th>3</th>\n      <td>Laura</td>\n      <td>66</td>\n      <td>Argentina</td>\n      <td>No</td>\n    </tr>\n  </tbody>\n</table>\n</div>"
     },
     "metadata": {},
     "execution_count": 7
    }
   ],
   "source": [
    "tabla = pd.read_csv('TablaEjemplo.csv')\n",
    "tabla"
   ]
  },
  {
   "cell_type": "code",
   "execution_count": 8,
   "metadata": {},
   "outputs": [
    {
     "output_type": "execute_result",
     "data": {
      "text/plain": "(4, 4)"
     },
     "metadata": {},
     "execution_count": 8
    }
   ],
   "source": [
    "#Muestra (x,y) \n",
    "tabla.shape"
   ]
  },
  {
   "cell_type": "code",
   "execution_count": 9,
   "metadata": {},
   "outputs": [
    {
     "output_type": "execute_result",
     "data": {
      "text/plain": "  Nombre  Edad       País Automovil\n0   Juan    35     México        No\n1  Pedro    41     España        Si\n2  María    28       Perú        Si\n3  Laura    66  Argentina        No",
      "text/html": "<div>\n<style scoped>\n    .dataframe tbody tr th:only-of-type {\n        vertical-align: middle;\n    }\n\n    .dataframe tbody tr th {\n        vertical-align: top;\n    }\n\n    .dataframe thead th {\n        text-align: right;\n    }\n</style>\n<table border=\"1\" class=\"dataframe\">\n  <thead>\n    <tr style=\"text-align: right;\">\n      <th></th>\n      <th>Nombre</th>\n      <th>Edad</th>\n      <th>País</th>\n      <th>Automovil</th>\n    </tr>\n  </thead>\n  <tbody>\n    <tr>\n      <th>0</th>\n      <td>Juan</td>\n      <td>35</td>\n      <td>México</td>\n      <td>No</td>\n    </tr>\n    <tr>\n      <th>1</th>\n      <td>Pedro</td>\n      <td>41</td>\n      <td>España</td>\n      <td>Si</td>\n    </tr>\n    <tr>\n      <th>2</th>\n      <td>María</td>\n      <td>28</td>\n      <td>Perú</td>\n      <td>Si</td>\n    </tr>\n    <tr>\n      <th>3</th>\n      <td>Laura</td>\n      <td>66</td>\n      <td>Argentina</td>\n      <td>No</td>\n    </tr>\n  </tbody>\n</table>\n</div>"
     },
     "metadata": {},
     "execution_count": 9
    }
   ],
   "source": [
    "#Muestra los 10 primeros datos de tabla\n",
    "tabla.head(10)"
   ]
  },
  {
   "cell_type": "code",
   "execution_count": 10,
   "metadata": {},
   "outputs": [
    {
     "output_type": "execute_result",
     "data": {
      "text/plain": "  Nombre  Edad       País Automovil\n0   Juan    35     México        No\n1  Pedro    41     España        Si\n2  María    28       Perú        Si\n3  Laura    66  Argentina        No",
      "text/html": "<div>\n<style scoped>\n    .dataframe tbody tr th:only-of-type {\n        vertical-align: middle;\n    }\n\n    .dataframe tbody tr th {\n        vertical-align: top;\n    }\n\n    .dataframe thead th {\n        text-align: right;\n    }\n</style>\n<table border=\"1\" class=\"dataframe\">\n  <thead>\n    <tr style=\"text-align: right;\">\n      <th></th>\n      <th>Nombre</th>\n      <th>Edad</th>\n      <th>País</th>\n      <th>Automovil</th>\n    </tr>\n  </thead>\n  <tbody>\n    <tr>\n      <th>0</th>\n      <td>Juan</td>\n      <td>35</td>\n      <td>México</td>\n      <td>No</td>\n    </tr>\n    <tr>\n      <th>1</th>\n      <td>Pedro</td>\n      <td>41</td>\n      <td>España</td>\n      <td>Si</td>\n    </tr>\n    <tr>\n      <th>2</th>\n      <td>María</td>\n      <td>28</td>\n      <td>Perú</td>\n      <td>Si</td>\n    </tr>\n    <tr>\n      <th>3</th>\n      <td>Laura</td>\n      <td>66</td>\n      <td>Argentina</td>\n      <td>No</td>\n    </tr>\n  </tbody>\n</table>\n</div>"
     },
     "metadata": {},
     "execution_count": 10
    }
   ],
   "source": [
    "#Muestra los ultimos 5 datos de Tabla\n",
    "tabla.tail()"
   ]
  },
  {
   "cell_type": "code",
   "execution_count": 11,
   "metadata": {
    "tags": []
   },
   "outputs": [
    {
     "output_type": "stream",
     "name": "stdout",
     "text": "<class 'pandas.core.frame.DataFrame'>\nRangeIndex: 4 entries, 0 to 3\nData columns (total 4 columns):\n #   Column     Non-Null Count  Dtype \n---  ------     --------------  ----- \n 0   Nombre     4 non-null      object\n 1   Edad       4 non-null      int64 \n 2   País       4 non-null      object\n 3   Automovil  4 non-null      object\ndtypes: int64(1), object(3)\nmemory usage: 256.0+ bytes\n"
    }
   ],
   "source": [
    "tabla.info()"
   ]
  },
  {
   "cell_type": "code",
   "execution_count": 22,
   "metadata": {},
   "outputs": [
    {
     "output_type": "execute_result",
     "data": {
      "text/plain": "     compactness  circularity  distance_circularity  radius_ratio  \\\n0           95.0         48.0                  83.0         178.0   \n1           91.0         41.0                  84.0         141.0   \n2          104.0         50.0                 106.0         209.0   \n3           93.0         41.0                  82.0         159.0   \n4           85.0         44.0                  70.0         205.0   \n..           ...          ...                   ...           ...   \n841         93.0         39.0                  87.0         183.0   \n842         89.0         46.0                  84.0         163.0   \n843        106.0         54.0                 101.0         222.0   \n844         86.0         36.0                  78.0         146.0   \n845         85.0         36.0                  66.0         123.0   \n\n     pr_axis_aspect_ratio  max_length_aspect_ratio  scatter_ratio  \\\n0                    72.0                     10.0          162.0   \n1                    57.0                      9.0          149.0   \n2                    66.0                     10.0          207.0   \n3                    63.0                      9.0          144.0   \n4                   103.0                     52.0          149.0   \n..                    ...                      ...            ...   \n841                  64.0                      8.0          169.0   \n842                  66.0                     11.0          159.0   \n843                  67.0                     12.0          222.0   \n844                  58.0                      7.0          135.0   \n845                  55.0                      5.0          120.0   \n\n     elongatedness  pr_axis_rectangularity  max_length_rectangularity  \\\n0             42.0                    20.0                      159.0   \n1             45.0                    19.0                      143.0   \n2             32.0                    23.0                      158.0   \n3             46.0                    19.0                      143.0   \n4             45.0                    19.0                      144.0   \n..             ...                     ...                        ...   \n841           40.0                    20.0                      134.0   \n842           43.0                    20.0                      159.0   \n843           30.0                    25.0                      173.0   \n844           50.0                    18.0                      124.0   \n845           56.0                    17.0                      128.0   \n\n     scaled_variance_major_axis  scaled_variance_minor_axis  \\\n0                         176.0                       379.0   \n1                         170.0                       330.0   \n2                         223.0                       635.0   \n3                         160.0                       309.0   \n4                         241.0                       325.0   \n..                          ...                         ...   \n841                       200.0                       422.0   \n842                       173.0                       368.0   \n843                       228.0                       721.0   \n844                       155.0                       270.0   \n845                       140.0                       212.0   \n\n     scaled_radius_gyration  skewness_major_axis  skewness_minor_axis  \\\n0                     184.0                 70.0                  6.0   \n1                     158.0                 72.0                  9.0   \n2                     220.0                 73.0                 14.0   \n3                     127.0                 63.0                  6.0   \n4                     188.0                127.0                  9.0   \n..                      ...                  ...                  ...   \n841                   149.0                 72.0                  7.0   \n842                   176.0                 72.0                  1.0   \n843                   200.0                 70.0                  3.0   \n844                   148.0                 66.0                  0.0   \n845                   131.0                 73.0                  1.0   \n\n     kurtosis_minor_axis  kurtosis_major_axis  hollows_ratio vehicle_class  \n0                   16.0                187.0          197.0           van  \n1                   14.0                189.0          199.0           van  \n2                    9.0                188.0          196.0          saab  \n3                   10.0                199.0          207.0           van  \n4                   11.0                180.0          183.0           bus  \n..                   ...                  ...            ...           ...  \n841                 25.0                188.0          195.0          saab  \n842                 20.0                186.0          197.0           van  \n843                  4.0                187.0          201.0          saab  \n844                 25.0                190.0          195.0          saab  \n845                 18.0                186.0          190.0           van  \n\n[846 rows x 19 columns]",
      "text/html": "<div>\n<style scoped>\n    .dataframe tbody tr th:only-of-type {\n        vertical-align: middle;\n    }\n\n    .dataframe tbody tr th {\n        vertical-align: top;\n    }\n\n    .dataframe thead th {\n        text-align: right;\n    }\n</style>\n<table border=\"1\" class=\"dataframe\">\n  <thead>\n    <tr style=\"text-align: right;\">\n      <th></th>\n      <th>compactness</th>\n      <th>circularity</th>\n      <th>distance_circularity</th>\n      <th>radius_ratio</th>\n      <th>pr_axis_aspect_ratio</th>\n      <th>max_length_aspect_ratio</th>\n      <th>scatter_ratio</th>\n      <th>elongatedness</th>\n      <th>pr_axis_rectangularity</th>\n      <th>max_length_rectangularity</th>\n      <th>scaled_variance_major_axis</th>\n      <th>scaled_variance_minor_axis</th>\n      <th>scaled_radius_gyration</th>\n      <th>skewness_major_axis</th>\n      <th>skewness_minor_axis</th>\n      <th>kurtosis_minor_axis</th>\n      <th>kurtosis_major_axis</th>\n      <th>hollows_ratio</th>\n      <th>vehicle_class</th>\n    </tr>\n  </thead>\n  <tbody>\n    <tr>\n      <th>0</th>\n      <td>95.0</td>\n      <td>48.0</td>\n      <td>83.0</td>\n      <td>178.0</td>\n      <td>72.0</td>\n      <td>10.0</td>\n      <td>162.0</td>\n      <td>42.0</td>\n      <td>20.0</td>\n      <td>159.0</td>\n      <td>176.0</td>\n      <td>379.0</td>\n      <td>184.0</td>\n      <td>70.0</td>\n      <td>6.0</td>\n      <td>16.0</td>\n      <td>187.0</td>\n      <td>197.0</td>\n      <td>van</td>\n    </tr>\n    <tr>\n      <th>1</th>\n      <td>91.0</td>\n      <td>41.0</td>\n      <td>84.0</td>\n      <td>141.0</td>\n      <td>57.0</td>\n      <td>9.0</td>\n      <td>149.0</td>\n      <td>45.0</td>\n      <td>19.0</td>\n      <td>143.0</td>\n      <td>170.0</td>\n      <td>330.0</td>\n      <td>158.0</td>\n      <td>72.0</td>\n      <td>9.0</td>\n      <td>14.0</td>\n      <td>189.0</td>\n      <td>199.0</td>\n      <td>van</td>\n    </tr>\n    <tr>\n      <th>2</th>\n      <td>104.0</td>\n      <td>50.0</td>\n      <td>106.0</td>\n      <td>209.0</td>\n      <td>66.0</td>\n      <td>10.0</td>\n      <td>207.0</td>\n      <td>32.0</td>\n      <td>23.0</td>\n      <td>158.0</td>\n      <td>223.0</td>\n      <td>635.0</td>\n      <td>220.0</td>\n      <td>73.0</td>\n      <td>14.0</td>\n      <td>9.0</td>\n      <td>188.0</td>\n      <td>196.0</td>\n      <td>saab</td>\n    </tr>\n    <tr>\n      <th>3</th>\n      <td>93.0</td>\n      <td>41.0</td>\n      <td>82.0</td>\n      <td>159.0</td>\n      <td>63.0</td>\n      <td>9.0</td>\n      <td>144.0</td>\n      <td>46.0</td>\n      <td>19.0</td>\n      <td>143.0</td>\n      <td>160.0</td>\n      <td>309.0</td>\n      <td>127.0</td>\n      <td>63.0</td>\n      <td>6.0</td>\n      <td>10.0</td>\n      <td>199.0</td>\n      <td>207.0</td>\n      <td>van</td>\n    </tr>\n    <tr>\n      <th>4</th>\n      <td>85.0</td>\n      <td>44.0</td>\n      <td>70.0</td>\n      <td>205.0</td>\n      <td>103.0</td>\n      <td>52.0</td>\n      <td>149.0</td>\n      <td>45.0</td>\n      <td>19.0</td>\n      <td>144.0</td>\n      <td>241.0</td>\n      <td>325.0</td>\n      <td>188.0</td>\n      <td>127.0</td>\n      <td>9.0</td>\n      <td>11.0</td>\n      <td>180.0</td>\n      <td>183.0</td>\n      <td>bus</td>\n    </tr>\n    <tr>\n      <th>...</th>\n      <td>...</td>\n      <td>...</td>\n      <td>...</td>\n      <td>...</td>\n      <td>...</td>\n      <td>...</td>\n      <td>...</td>\n      <td>...</td>\n      <td>...</td>\n      <td>...</td>\n      <td>...</td>\n      <td>...</td>\n      <td>...</td>\n      <td>...</td>\n      <td>...</td>\n      <td>...</td>\n      <td>...</td>\n      <td>...</td>\n      <td>...</td>\n    </tr>\n    <tr>\n      <th>841</th>\n      <td>93.0</td>\n      <td>39.0</td>\n      <td>87.0</td>\n      <td>183.0</td>\n      <td>64.0</td>\n      <td>8.0</td>\n      <td>169.0</td>\n      <td>40.0</td>\n      <td>20.0</td>\n      <td>134.0</td>\n      <td>200.0</td>\n      <td>422.0</td>\n      <td>149.0</td>\n      <td>72.0</td>\n      <td>7.0</td>\n      <td>25.0</td>\n      <td>188.0</td>\n      <td>195.0</td>\n      <td>saab</td>\n    </tr>\n    <tr>\n      <th>842</th>\n      <td>89.0</td>\n      <td>46.0</td>\n      <td>84.0</td>\n      <td>163.0</td>\n      <td>66.0</td>\n      <td>11.0</td>\n      <td>159.0</td>\n      <td>43.0</td>\n      <td>20.0</td>\n      <td>159.0</td>\n      <td>173.0</td>\n      <td>368.0</td>\n      <td>176.0</td>\n      <td>72.0</td>\n      <td>1.0</td>\n      <td>20.0</td>\n      <td>186.0</td>\n      <td>197.0</td>\n      <td>van</td>\n    </tr>\n    <tr>\n      <th>843</th>\n      <td>106.0</td>\n      <td>54.0</td>\n      <td>101.0</td>\n      <td>222.0</td>\n      <td>67.0</td>\n      <td>12.0</td>\n      <td>222.0</td>\n      <td>30.0</td>\n      <td>25.0</td>\n      <td>173.0</td>\n      <td>228.0</td>\n      <td>721.0</td>\n      <td>200.0</td>\n      <td>70.0</td>\n      <td>3.0</td>\n      <td>4.0</td>\n      <td>187.0</td>\n      <td>201.0</td>\n      <td>saab</td>\n    </tr>\n    <tr>\n      <th>844</th>\n      <td>86.0</td>\n      <td>36.0</td>\n      <td>78.0</td>\n      <td>146.0</td>\n      <td>58.0</td>\n      <td>7.0</td>\n      <td>135.0</td>\n      <td>50.0</td>\n      <td>18.0</td>\n      <td>124.0</td>\n      <td>155.0</td>\n      <td>270.0</td>\n      <td>148.0</td>\n      <td>66.0</td>\n      <td>0.0</td>\n      <td>25.0</td>\n      <td>190.0</td>\n      <td>195.0</td>\n      <td>saab</td>\n    </tr>\n    <tr>\n      <th>845</th>\n      <td>85.0</td>\n      <td>36.0</td>\n      <td>66.0</td>\n      <td>123.0</td>\n      <td>55.0</td>\n      <td>5.0</td>\n      <td>120.0</td>\n      <td>56.0</td>\n      <td>17.0</td>\n      <td>128.0</td>\n      <td>140.0</td>\n      <td>212.0</td>\n      <td>131.0</td>\n      <td>73.0</td>\n      <td>1.0</td>\n      <td>18.0</td>\n      <td>186.0</td>\n      <td>190.0</td>\n      <td>van</td>\n    </tr>\n  </tbody>\n</table>\n<p>846 rows × 19 columns</p>\n</div>"
     },
     "metadata": {},
     "execution_count": 22
    }
   ],
   "source": [
    "#Carga vehiculos.csv con el nombre tabla1\n",
    "tabla1 = pd.read_csv('vehiculos.csv')\n",
    "tabla1"
   ]
  },
  {
   "cell_type": "code",
   "execution_count": 24,
   "metadata": {},
   "outputs": [
    {
     "output_type": "execute_result",
     "data": {
      "text/plain": "Index(['compactness', 'circularity', 'distance_circularity', 'radius_ratio',\n       'pr_axis_aspect_ratio', 'max_length_aspect_ratio', 'scatter_ratio',\n       'elongatedness', 'pr_axis_rectangularity', 'max_length_rectangularity',\n       'scaled_variance_major_axis', 'scaled_variance_minor_axis',\n       'scaled_radius_gyration', 'skewness_major_axis', 'skewness_minor_axis',\n       'kurtosis_minor_axis', 'kurtosis_major_axis', 'hollows_ratio',\n       'vehicle_class'],\n      dtype='object')"
     },
     "metadata": {},
     "execution_count": 24
    }
   ],
   "source": [
    "tabla1.columns #Para ver las columnas del data frame"
   ]
  },
  {
   "cell_type": "code",
   "execution_count": 26,
   "metadata": {},
   "outputs": [
    {
     "output_type": "execute_result",
     "data": {
      "text/plain": "bus     218\nsaab    217\nopel    212\nvan     199\nName: vehicle_class, dtype: int64"
     },
     "metadata": {},
     "execution_count": 26
    }
   ],
   "source": [
    "#Cuenta los valores de la colimna vehicle_class de tabla1\n",
    "tabla1.vehicle_class.value_counts()"
   ]
  },
  {
   "cell_type": "code",
   "execution_count": 33,
   "metadata": {},
   "outputs": [
    {
     "output_type": "execute_result",
     "data": {
      "text/plain": "231     40.0\n612     42.0\n655     44.0\n230     47.0\n617     49.0\n       ...  \n718    110.0\n255    110.0\n346    110.0\n283    110.0\n506    112.0\nName: distance_circularity, Length: 846, dtype: float64"
     },
     "metadata": {},
     "execution_count": 33
    }
   ],
   "source": [
    "tabla1.distance_circularity.sort_values() #Ordena los valores de la columna en orden ascendente"
   ]
  },
  {
   "cell_type": "code",
   "execution_count": 34,
   "metadata": {},
   "outputs": [
    {
     "output_type": "execute_result",
     "data": {
      "text/plain": "     compactness  circularity  distance_circularity  radius_ratio  \\\n845         85.0         36.0                  66.0         123.0   \n41          88.0         37.0                  51.0         105.0   \n617         83.0         37.0                  49.0         112.0   \n614         85.0         33.0                  50.0         104.0   \n612         80.0         34.0                  42.0         110.0   \n..           ...          ...                   ...           ...   \n85         110.0         58.0                 106.0         180.0   \n321        113.0         57.0                 109.0         194.0   \n396        108.0         57.0                 106.0         177.0   \n274        107.0         57.0                 106.0         179.0   \n835        111.0         58.0                 105.0         183.0   \n\n     pr_axis_aspect_ratio  max_length_aspect_ratio  scatter_ratio  \\\n845                  55.0                      5.0          120.0   \n41                   52.0                      5.0          119.0   \n617                  55.0                      5.0          122.0   \n614                  53.0                      4.0          115.0   \n612                  57.0                      3.0          114.0   \n..                    ...                      ...            ...   \n85                   51.0                      6.0          261.0   \n321                  56.0                      6.0          260.0   \n396                  51.0                      5.0          256.0   \n274                  51.0                      8.0          257.0   \n835                  51.0                      6.0          265.0   \n\n     elongatedness  pr_axis_rectangularity  max_length_rectangularity  \\\n845           56.0                    17.0                      128.0   \n41            57.0                    17.0                      128.0   \n617           55.0                    17.0                      128.0   \n614           59.0                    17.0                      118.0   \n612           59.0                    17.0                      119.0   \n..             ...                     ...                        ...   \n85            26.0                    28.0                      171.0   \n321           26.0                    28.0                      175.0   \n396           26.0                    28.0                      170.0   \n274           26.0                    28.0                      172.0   \n835           26.0                    29.0                      174.0   \n\n     scaled_variance_major_axis  scaled_variance_minor_axis  \\\n845                       140.0                       212.0   \n41                        135.0                       207.0   \n617                       144.0                       219.0   \n614                       136.0                       193.0   \n612                       131.0                       191.0   \n..                          ...                         ...   \n85                        278.0                       998.0   \n321                       288.0                       982.0   \n396                       285.0                       966.0   \n274                       275.0                       954.0   \n835                       285.0                      1018.0   \n\n     scaled_radius_gyration  skewness_major_axis  skewness_minor_axis  \\\n845                   131.0                 73.0                  1.0   \n41                    125.0                 86.0                  8.0   \n617                   146.0                 85.0                  8.0   \n614                   127.0                 83.0                  1.0   \n612                   121.0                 87.0                  4.0   \n..                      ...                  ...                  ...   \n85                    257.0                 83.0                  9.0   \n321                   261.0                 85.0                 11.0   \n396                   261.0                 87.0                 11.0   \n274                   232.0                 83.0                  2.0   \n835                   255.0                 85.0                  4.0   \n\n     kurtosis_minor_axis  kurtosis_major_axis  hollows_ratio vehicle_class  \n845                 18.0                186.0          190.0           van  \n41                  16.0                179.0          183.0           van  \n617                 16.0                180.0          184.0           van  \n614                 30.0                179.0          185.0          saab  \n612                  7.0                179.0          183.0          opel  \n..                   ...                  ...            ...           ...  \n85                  13.0                181.0          182.0           bus  \n321                 21.0                182.0          183.0           bus  \n396                  2.0                182.0          181.0           bus  \n274                 20.0                181.0          184.0           bus  \n835                  8.0                181.0          183.0           bus  \n\n[846 rows x 19 columns]",
      "text/html": "<div>\n<style scoped>\n    .dataframe tbody tr th:only-of-type {\n        vertical-align: middle;\n    }\n\n    .dataframe tbody tr th {\n        vertical-align: top;\n    }\n\n    .dataframe thead th {\n        text-align: right;\n    }\n</style>\n<table border=\"1\" class=\"dataframe\">\n  <thead>\n    <tr style=\"text-align: right;\">\n      <th></th>\n      <th>compactness</th>\n      <th>circularity</th>\n      <th>distance_circularity</th>\n      <th>radius_ratio</th>\n      <th>pr_axis_aspect_ratio</th>\n      <th>max_length_aspect_ratio</th>\n      <th>scatter_ratio</th>\n      <th>elongatedness</th>\n      <th>pr_axis_rectangularity</th>\n      <th>max_length_rectangularity</th>\n      <th>scaled_variance_major_axis</th>\n      <th>scaled_variance_minor_axis</th>\n      <th>scaled_radius_gyration</th>\n      <th>skewness_major_axis</th>\n      <th>skewness_minor_axis</th>\n      <th>kurtosis_minor_axis</th>\n      <th>kurtosis_major_axis</th>\n      <th>hollows_ratio</th>\n      <th>vehicle_class</th>\n    </tr>\n  </thead>\n  <tbody>\n    <tr>\n      <th>845</th>\n      <td>85.0</td>\n      <td>36.0</td>\n      <td>66.0</td>\n      <td>123.0</td>\n      <td>55.0</td>\n      <td>5.0</td>\n      <td>120.0</td>\n      <td>56.0</td>\n      <td>17.0</td>\n      <td>128.0</td>\n      <td>140.0</td>\n      <td>212.0</td>\n      <td>131.0</td>\n      <td>73.0</td>\n      <td>1.0</td>\n      <td>18.0</td>\n      <td>186.0</td>\n      <td>190.0</td>\n      <td>van</td>\n    </tr>\n    <tr>\n      <th>41</th>\n      <td>88.0</td>\n      <td>37.0</td>\n      <td>51.0</td>\n      <td>105.0</td>\n      <td>52.0</td>\n      <td>5.0</td>\n      <td>119.0</td>\n      <td>57.0</td>\n      <td>17.0</td>\n      <td>128.0</td>\n      <td>135.0</td>\n      <td>207.0</td>\n      <td>125.0</td>\n      <td>86.0</td>\n      <td>8.0</td>\n      <td>16.0</td>\n      <td>179.0</td>\n      <td>183.0</td>\n      <td>van</td>\n    </tr>\n    <tr>\n      <th>617</th>\n      <td>83.0</td>\n      <td>37.0</td>\n      <td>49.0</td>\n      <td>112.0</td>\n      <td>55.0</td>\n      <td>5.0</td>\n      <td>122.0</td>\n      <td>55.0</td>\n      <td>17.0</td>\n      <td>128.0</td>\n      <td>144.0</td>\n      <td>219.0</td>\n      <td>146.0</td>\n      <td>85.0</td>\n      <td>8.0</td>\n      <td>16.0</td>\n      <td>180.0</td>\n      <td>184.0</td>\n      <td>van</td>\n    </tr>\n    <tr>\n      <th>614</th>\n      <td>85.0</td>\n      <td>33.0</td>\n      <td>50.0</td>\n      <td>104.0</td>\n      <td>53.0</td>\n      <td>4.0</td>\n      <td>115.0</td>\n      <td>59.0</td>\n      <td>17.0</td>\n      <td>118.0</td>\n      <td>136.0</td>\n      <td>193.0</td>\n      <td>127.0</td>\n      <td>83.0</td>\n      <td>1.0</td>\n      <td>30.0</td>\n      <td>179.0</td>\n      <td>185.0</td>\n      <td>saab</td>\n    </tr>\n    <tr>\n      <th>612</th>\n      <td>80.0</td>\n      <td>34.0</td>\n      <td>42.0</td>\n      <td>110.0</td>\n      <td>57.0</td>\n      <td>3.0</td>\n      <td>114.0</td>\n      <td>59.0</td>\n      <td>17.0</td>\n      <td>119.0</td>\n      <td>131.0</td>\n      <td>191.0</td>\n      <td>121.0</td>\n      <td>87.0</td>\n      <td>4.0</td>\n      <td>7.0</td>\n      <td>179.0</td>\n      <td>183.0</td>\n      <td>opel</td>\n    </tr>\n    <tr>\n      <th>...</th>\n      <td>...</td>\n      <td>...</td>\n      <td>...</td>\n      <td>...</td>\n      <td>...</td>\n      <td>...</td>\n      <td>...</td>\n      <td>...</td>\n      <td>...</td>\n      <td>...</td>\n      <td>...</td>\n      <td>...</td>\n      <td>...</td>\n      <td>...</td>\n      <td>...</td>\n      <td>...</td>\n      <td>...</td>\n      <td>...</td>\n      <td>...</td>\n    </tr>\n    <tr>\n      <th>85</th>\n      <td>110.0</td>\n      <td>58.0</td>\n      <td>106.0</td>\n      <td>180.0</td>\n      <td>51.0</td>\n      <td>6.0</td>\n      <td>261.0</td>\n      <td>26.0</td>\n      <td>28.0</td>\n      <td>171.0</td>\n      <td>278.0</td>\n      <td>998.0</td>\n      <td>257.0</td>\n      <td>83.0</td>\n      <td>9.0</td>\n      <td>13.0</td>\n      <td>181.0</td>\n      <td>182.0</td>\n      <td>bus</td>\n    </tr>\n    <tr>\n      <th>321</th>\n      <td>113.0</td>\n      <td>57.0</td>\n      <td>109.0</td>\n      <td>194.0</td>\n      <td>56.0</td>\n      <td>6.0</td>\n      <td>260.0</td>\n      <td>26.0</td>\n      <td>28.0</td>\n      <td>175.0</td>\n      <td>288.0</td>\n      <td>982.0</td>\n      <td>261.0</td>\n      <td>85.0</td>\n      <td>11.0</td>\n      <td>21.0</td>\n      <td>182.0</td>\n      <td>183.0</td>\n      <td>bus</td>\n    </tr>\n    <tr>\n      <th>396</th>\n      <td>108.0</td>\n      <td>57.0</td>\n      <td>106.0</td>\n      <td>177.0</td>\n      <td>51.0</td>\n      <td>5.0</td>\n      <td>256.0</td>\n      <td>26.0</td>\n      <td>28.0</td>\n      <td>170.0</td>\n      <td>285.0</td>\n      <td>966.0</td>\n      <td>261.0</td>\n      <td>87.0</td>\n      <td>11.0</td>\n      <td>2.0</td>\n      <td>182.0</td>\n      <td>181.0</td>\n      <td>bus</td>\n    </tr>\n    <tr>\n      <th>274</th>\n      <td>107.0</td>\n      <td>57.0</td>\n      <td>106.0</td>\n      <td>179.0</td>\n      <td>51.0</td>\n      <td>8.0</td>\n      <td>257.0</td>\n      <td>26.0</td>\n      <td>28.0</td>\n      <td>172.0</td>\n      <td>275.0</td>\n      <td>954.0</td>\n      <td>232.0</td>\n      <td>83.0</td>\n      <td>2.0</td>\n      <td>20.0</td>\n      <td>181.0</td>\n      <td>184.0</td>\n      <td>bus</td>\n    </tr>\n    <tr>\n      <th>835</th>\n      <td>111.0</td>\n      <td>58.0</td>\n      <td>105.0</td>\n      <td>183.0</td>\n      <td>51.0</td>\n      <td>6.0</td>\n      <td>265.0</td>\n      <td>26.0</td>\n      <td>29.0</td>\n      <td>174.0</td>\n      <td>285.0</td>\n      <td>1018.0</td>\n      <td>255.0</td>\n      <td>85.0</td>\n      <td>4.0</td>\n      <td>8.0</td>\n      <td>181.0</td>\n      <td>183.0</td>\n      <td>bus</td>\n    </tr>\n  </tbody>\n</table>\n<p>846 rows × 19 columns</p>\n</div>"
     },
     "metadata": {},
     "execution_count": 34
    }
   ],
   "source": [
    "tabla1.sort_values(by= 'pr_axis_rectangularity') #Ordena toda la tabla segun una columna o varias"
   ]
  },
  {
   "cell_type": "code",
   "execution_count": null,
   "metadata": {},
   "outputs": [],
   "source": []
  }
 ]
}